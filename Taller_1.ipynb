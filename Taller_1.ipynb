{
  "nbformat": 4,
  "nbformat_minor": 0,
  "metadata": {
    "kernelspec": {
      "display_name": "Python 3",
      "language": "python",
      "name": "python3"
    },
    "language_info": {
      "codemirror_mode": {
        "name": "ipython",
        "version": 3
      },
      "file_extension": ".py",
      "mimetype": "text/x-python",
      "name": "python",
      "nbconvert_exporter": "python",
      "pygments_lexer": "ipython3",
      "version": "3.8.5"
    },
    "colab": {
      "name": "Taller 1.ipynb",
      "provenance": [],
      "include_colab_link": true
    }
  },
  "cells": [
    {
      "cell_type": "markdown",
      "metadata": {
        "id": "view-in-github",
        "colab_type": "text"
      },
      "source": [
        "<a href=\"https://colab.research.google.com/github/juanma7809/Computacion_Blanda/blob/main/Taller_1.ipynb\" target=\"_parent\"><img src=\"https://colab.research.google.com/assets/colab-badge.svg\" alt=\"Open In Colab\"/></a>"
      ]
    },
    {
      "cell_type": "markdown",
      "metadata": {
        "id": "C5BKKJLPjRfJ"
      },
      "source": [
        "# Taller"
      ]
    },
    {
      "cell_type": "markdown",
      "metadata": {
        "id": "ElrM_bq9jRfP"
      },
      "source": [
        "**Recordatorio**: Este taller es una asignación individual, no se hacen en parejas. El trabajo debe ser todo tuyo. Puede entregar una solución escrita a mano o una copia impresa de una solución tipográfica al comienzo del cuaderno el martes 5 de octubre."
      ]
    },
    {
      "cell_type": "markdown",
      "metadata": {
        "id": "NhfkKfg5jRfQ"
      },
      "source": [
        "## Revisión\n",
        "\n",
        "Esta tarea está diseñada para poner a prueba su comprensión de los conceptos subyacentes al análisis sintáctico LL. En particular, está aquí para garantizar que comprenda los detalles que las herramientas ampliamente disponibles, como los generadores de analizadores, se abstraen de usted cuando trabaja en los laboratorios. Estar bien versado en los conceptos detrás del análisis sintáctico LL a menudo puede ser crucial para usar generadores de analizadores sintácticos de manera efectiva.\n",
        "\n",
        "En esta tarea, trabajará con la gramática libre de contexto, definida de la siguiente manera:\n",
        "\n",
        "![](./grammar.png)\n",
        "\n",
        "Los no terminales están en <corchete angular>.\n",
        "\"let\" y \"where\" se consideran cada uno un solo terminal. $\\epsilon$ representa la cadena vacía y \\$ representa el marcador de fin de flujo. <P> es el símbolo de inicio. Y fijamos algún operador $\\oplus$ específico en el lenguaje. Cada regla de producción recibe un nombre diferente por conveniencia, incluso si algunas de ellas pueden producir el mismo no terminal. ¡Esta gramática podría describir muy bien un lenguaje de programación simple!"
      ]
    },
    {
      "cell_type": "markdown",
      "metadata": {
        "id": "RNXnRpuXjRfR"
      },
      "source": [
        "## Problema 1: preliminar\n",
        "\n",
        "Dé tres derivaciones de la siguiente cadena - una que está más a la izquierda, una que está más a la derecha y otra que no es ninguna.\n",
        "\n",
        "$\\text{let x} = \\oplus x \\oplus \\text{x where x} = x \\oplus x \\oplus x$"
      ]
    },
    {
      "cell_type": "markdown",
      "metadata": {
        "id": "aSDIJnZkjRfS"
      },
      "source": [
        "## Problema 2: Análisis predictivo LL (1)\n",
        "\n",
        "1. Calcule los conjuntos First y Follow para $\\Delta$.<br>\n",
        "Recuerde que First($\\gamma$) representa el conjunto de todos los tokens que pueden aparecer primero en cualquier cadena aceptada por la regla de producción $\\gamma$. Mediante un ligero abuso de notación, First($\\langle N \\rangle$) se puede definir adicionalmente como el conjunto de todos los tokens que pueden aparecer en cualquier cadena de la que se pueda derivar la $\\langle N \\rangle$ no terminal.\n",
        "Es útil calcular los valores de First, tanto para reglas de producción como para no terminales, porque puede usarlos como valores intermedios para calcular otros conjuntos First y Follow. Por lo tanto, deberías anotar ambos. Muestra tu trabajo.<br><br>\n",
        "2. Explique los conflictos First-First (es decir, cómo esta clase de conflictos se manifiesta en la ejecución de un analizador predictivo), y cómo los calcularía usando su respuesta al inciso (2). Enumere todos los conflictos First-First que encuentre en $\\Delta$.<br><br>\n",
        "3. Explique los conflictos First-Follow, y cómo los calcularía usando su respuesta al inciso (2). Enumere todos los conflictos First-Follow que encuentre en $\\Delta$.<br><br>\n",
        "4. Demuestre el uso correcto de factorización izquierda y recursión derecha para derivar una gramática equivalente que resuelva todos los conflictos que encontró en las partes (3) y (4). Explique brevemente por qué sus transformaciones lo hacen y no cambian el lenguaje."
      ]
    },
    {
      "cell_type": "code",
      "metadata": {
        "id": "PtFGOR9AjRfT"
      },
      "source": [
        ""
      ],
      "execution_count": null,
      "outputs": []
    }
  ]
}